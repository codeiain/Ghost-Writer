{
 "cells": [
  {
   "cell_type": "code",
   "execution_count": null,
   "metadata": {},
   "outputs": [],
   "source": [
    "import os\n",
    "from redis import Redis\n",
    "from rq import Queue\n",
    "import story\n",
    "\n",
    "queue = Queue(connection=Redis())\n",
    "\n",
    "def queue_tasks():\n",
    "    queued_job = queue.enqueue(story.write_story)\n",
    "    for x in range(2):\n",
    "        previous_job = queued_job\n",
    "        queued_job = queue.enqueue(story.write_story, depends_on=previous_job)\n",
    "\n",
    "def main():\n",
    "    queue_tasks()\n",
    "\n",
    "if __name__ == \"__main__\":\n",
    "    main()"
   ]
  },
  {
   "cell_type": "code",
   "execution_count": null,
   "metadata": {},
   "outputs": [],
   "source": []
  }
 ],
 "metadata": {
  "interpreter": {
   "hash": "0a35227b643d8563578fb5109bbec4db59495ae0fa030bbc677af271927bbcb5"
  },
  "kernelspec": {
   "display_name": "Python 3.8.12 ('venv': venv)",
   "language": "python",
   "name": "python3"
  },
  "language_info": {
   "name": "python",
   "version": "3.8.12"
  },
  "orig_nbformat": 4
 },
 "nbformat": 4,
 "nbformat_minor": 2
}
